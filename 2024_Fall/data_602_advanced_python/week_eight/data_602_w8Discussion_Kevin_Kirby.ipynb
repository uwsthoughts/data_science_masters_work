{
 "cells": [
  {
   "cell_type": "markdown",
   "metadata": {},
   "source": [
    "## Kevin Kirby Discussion Board Week 8 Submission"
   ]
  },
  {
   "cell_type": "code",
   "execution_count": 2,
   "metadata": {},
   "outputs": [],
   "source": [
    "import pandas as pd"
   ]
  },
  {
   "cell_type": "markdown",
   "metadata": {},
   "source": [
    "### 1: How would you delete:\n",
    "\n",
    "* An index from your dataframe\n",
    "* A column from your dataframe\n",
    "* A row from your dataframe\n",
    "\n",
    "Answer:\n",
    "\n",
    "An index from the dataframe:"
   ]
  },
  {
   "cell_type": "code",
   "execution_count": 9,
   "metadata": {},
   "outputs": [
    {
     "name": "stdout",
     "output_type": "stream",
     "text": [
      "current index: RangeIndex(start=0, stop=3, step=1)\n",
      "new index: RangeIndex(start=1, stop=3, step=1)\n",
      "reset index: RangeIndex(start=0, stop=2, step=1)\n"
     ]
    }
   ],
   "source": [
    "data_smash_df = pd.DataFrame({'A': [1, 2, 3], 'B': [4, 5, 6]})\n",
    "print(f\"current index: {data_smash_df.index}\")\n",
    "\n",
    "data_smash_df.drop(index=0, inplace=True)\n",
    "print(f\"new index: {data_smash_df.index}\")\n",
    "\n"
   ]
  },
  {
   "cell_type": "markdown",
   "metadata": {},
   "source": [
    "A column from the dataframe:"
   ]
  },
  {
   "cell_type": "code",
   "execution_count": 10,
   "metadata": {},
   "outputs": [
    {
     "name": "stdout",
     "output_type": "stream",
     "text": [
      "   B\n",
      "1  5\n",
      "2  6\n"
     ]
    }
   ],
   "source": [
    "data_smash_df.drop(columns=['A'], inplace=True)\n",
    "print(data_smash_df)\n"
   ]
  },
  {
   "cell_type": "markdown",
   "metadata": {},
   "source": [
    "A row from the dataframe:"
   ]
  },
  {
   "cell_type": "code",
   "execution_count": 12,
   "metadata": {},
   "outputs": [
    {
     "name": "stdout",
     "output_type": "stream",
     "text": [
      "   B\n",
      "2  6\n"
     ]
    }
   ],
   "source": [
    "data_smash_df.drop(index=1, inplace=True)\n",
    "print(data_smash_df)"
   ]
  },
  {
   "cell_type": "markdown",
   "metadata": {},
   "source": [
    "## 2. How do you iterate over a pandas dataframe?\n",
    "\n",
    "Answer:\n",
    "To interate over a pandas df, you can use ```iterrows()```"
   ]
  },
  {
   "cell_type": "code",
   "execution_count": 13,
   "metadata": {},
   "outputs": [
    {
     "name": "stdout",
     "output_type": "stream",
     "text": [
      "Index: 0, A: 10, B: 40\n",
      "Index: 1, A: 20, B: 50\n",
      "Index: 2, A: 30, B: 60\n"
     ]
    }
   ],
   "source": [
    "dataframer = pd.DataFrame({'horcrux': [10, 20, 30], 'wizards': [40, 50, 60]})\n",
    "for index, row in dataframer.iterrows():\n",
    "    print(f\"Index: {index}, A: {row['horcrux']}, B: {row['wizards']}\")"
   ]
  },
  {
   "cell_type": "markdown",
   "metadata": {},
   "source": [
    "## 3. How would you convert a string to a date?\n",
    "\n",
    "Answer:\n",
    "You can use the ```pd.to_datetime()``` function to convert a string to a date."
   ]
  },
  {
   "cell_type": "code",
   "execution_count": 15,
   "metadata": {},
   "outputs": [
    {
     "name": "stdout",
     "output_type": "stream",
     "text": [
      "  date_string\n",
      "0  2024-01-01\n",
      "1  2024-02-01\n",
      "2  2024-03-01\n"
     ]
    }
   ],
   "source": [
    "dataframe_timer = pd.DataFrame({'date_string': ['2024-01-01', '2024-02-01', '2024-03-01']})\n",
    "dataframe_timer['date_string'] = pd.to_datetime(dataframe_timer['date_string'])\n",
    "print(dataframe_timer)   "
   ]
  },
  {
   "cell_type": "markdown",
   "metadata": {},
   "source": [
    "## 4. What is data aggregation?  Give an example in Python.\n",
    "\n",
    "Answer:\n",
    "Data aggregation is the act of taking data from a more granular level and rolling it up to a higher level. For instance, individual stock purchases in a stock market can be aggreated to show total stock purchases for that day.  You can use```groupby()``` to group the data by a column and then use ```agg()```  to aggregate the grouped data\n"
   ]
  },
  {
   "cell_type": "code",
   "execution_count": 16,
   "metadata": {},
   "outputs": [
    {
     "name": "stdout",
     "output_type": "stream",
     "text": [
      "          Values\n",
      "Category        \n",
      "A             40\n",
      "B             60\n"
     ]
    }
   ],
   "source": [
    "grouper_df = pd.DataFrame({'Category': ['A', 'B', 'A', 'B'], 'Values': [10, 20, 30, 40]})\n",
    "\n",
    "group_sum = grouper_df.groupby('Category').agg({'Values': 'sum'})\n",
    "print(group_sum)"
   ]
  },
  {
   "cell_type": "markdown",
   "metadata": {},
   "source": [
    "## 5. What is GroupBy in Pandas (groupby()). Give an example in Python.\n",
    "\n",
    "Answer:\n",
    "```groupby``` allows you to group data based on one or more columns and then apply aggregation functions to the grouped data. In the last queation, I used it to prepare data for a summed aggregation.\n"
   ]
  },
  {
   "cell_type": "code",
   "execution_count": 17,
   "metadata": {},
   "outputs": [
    {
     "name": "stdout",
     "output_type": "stream",
     "text": [
      "          Values  Values2\n",
      "Category                 \n",
      "A             40    200.0\n",
      "B             60    300.0\n"
     ]
    }
   ],
   "source": [
    "onemore_df  = pd.DataFrame({'Category': ['A', 'B', 'A', 'B'], 'Values': [10, 20, 30, 40], 'Values2': [100, 200, 300, 400]})\n",
    "group_sum = onemore_df.groupby('Category').agg({'Values': 'sum', 'Values2': 'mean'})\n",
    "print(group_sum)"
   ]
  }
 ],
 "metadata": {
  "kernelspec": {
   "display_name": "venv-metal",
   "language": "python",
   "name": "venv-metal"
  },
  "language_info": {
   "codemirror_mode": {
    "name": "ipython",
    "version": 3
   },
   "file_extension": ".py",
   "mimetype": "text/x-python",
   "name": "python",
   "nbconvert_exporter": "python",
   "pygments_lexer": "ipython3",
   "version": "3.11.9"
  }
 },
 "nbformat": 4,
 "nbformat_minor": 2
}
