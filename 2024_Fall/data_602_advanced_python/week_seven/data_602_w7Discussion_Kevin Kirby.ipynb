{
 "cells": [
  {
   "cell_type": "markdown",
   "metadata": {},
   "source": [
    "## Kevin Kirby Discussion Board Week 7 Submission"
   ]
  },
  {
   "cell_type": "code",
   "execution_count": 1,
   "metadata": {},
   "outputs": [],
   "source": [
    "import pandas as pd"
   ]
  },
  {
   "cell_type": "markdown",
   "metadata": {},
   "source": [
    "### 1. What is pandas and why use it?\n",
    "\n",
    "Answer: \n",
    "Pandas is an open source data manipulation and analysis library that’s built on type of dumpy. It’s primarily designed for working with structured data, where data is in classic rows and columns. Panda data frames is a widely use mechanism for organizing data within code and allows for easy aggregation and eventually visualization. These data frames share a lot of vocabulary and abilities with the SQL language, making it easy to pickup for a day-to-day analyst."
   ]
  },
  {
   "cell_type": "markdown",
   "metadata": {},
   "source": [
    "### 2. Give an example of how to import a csv file using pandas\n",
    "\n",
    "Answer:\n",
    "\n",
    "To import a CSV with Pandas, you would generally use the p.read_csv() function."
   ]
  },
  {
   "cell_type": "code",
   "execution_count": null,
   "metadata": {},
   "outputs": [],
   "source": [
    "#Importing a csv. You would replace the path with one for your own CSV\n",
    "tired_df = pd.read_csv('folder/another_folder/'sleep_stats.csv')\n",
    "print(tired_df)"
   ]
  },
  {
   "cell_type": "markdown",
   "metadata": {},
   "source": [
    "### 3. Show how to view the first 10 rows of a dataset using pandas\n",
    "\n",
    "Answer: \n",
    "To view the first 10 rows,  you would use the head()method, where any number up to the row length of the data frame can go inside the parenthesis. "
   ]
  },
  {
   "cell_type": "code",
   "execution_count": null,
   "metadata": {},
   "outputs": [],
   "source": [
    "print(tired_df.head(10))"
   ]
  },
  {
   "cell_type": "markdown",
   "metadata": {},
   "source": [
    "### 4. Write a Pandas program to compare the elements of the two Pandas Series.\n",
    "Sample Series: [2, 4, 6, 8, 10], [1, 3, 5, 7, 10]\n",
    "\n",
    "Answer:\n",
    "My code shows comparing series_one to series_two with : greater than, less than, and equal to."
   ]
  },
  {
   "cell_type": "code",
   "execution_count": 2,
   "metadata": {},
   "outputs": [
    {
     "name": "stdout",
     "output_type": "stream",
     "text": [
      "Greater:\n",
      " 0     True\n",
      "1     True\n",
      "2     True\n",
      "3     True\n",
      "4    False\n",
      "dtype: bool\n",
      "Less:\n",
      " 0    False\n",
      "1    False\n",
      "2    False\n",
      "3    False\n",
      "4    False\n",
      "dtype: bool\n",
      "Equal:\n",
      " 0    False\n",
      "1    False\n",
      "2    False\n",
      "3    False\n",
      "4     True\n",
      "dtype: bool\n"
     ]
    }
   ],
   "source": [
    "#series provided\n",
    "series_one = pd.Series([2, 4, 6, 8, 10])\n",
    "series_two = pd.Series([1, 3, 5, 7, 10])\n",
    "\n",
    "# comparing series_one to series_two\n",
    "print(\"greater than:\\n\", series_one > series_two)\n",
    "print(\"less then:\\n\", series_one < series_two)\n",
    "\n",
    "#be mindful of the double equals for equal\n",
    "print(\"equal to:\\n\", series_one == series_two)"
   ]
  },
  {
   "cell_type": "markdown",
   "metadata": {},
   "source": [
    "### 5. Change the first character of each word to upper case in each word of df1\n",
    "\n",
    "df1 = pd.Series(['hello', 'to', 'cuny', 'class?'])\n",
    "\n",
    "Answer:\n",
    "You can use str.capitalize() on your dataframe to get a upper case first letter"
   ]
  },
  {
   "cell_type": "code",
   "execution_count": 3,
   "metadata": {},
   "outputs": [
    {
     "name": "stdout",
     "output_type": "stream",
     "text": [
      "0     Hello\n",
      "1        To\n",
      "2      Cuny\n",
      "3    Class?\n",
      "dtype: object\n"
     ]
    }
   ],
   "source": [
    "df1 = pd.Series(['hello', 'to', 'cuny', 'class?'])\n",
    "df1 = df1.str.capitalize()\n",
    "print(df1)"
   ]
  }
 ],
 "metadata": {
  "kernelspec": {
   "display_name": "venv-metal",
   "language": "python",
   "name": "venv-metal"
  },
  "language_info": {
   "codemirror_mode": {
    "name": "ipython",
    "version": 3
   },
   "file_extension": ".py",
   "mimetype": "text/x-python",
   "name": "python",
   "nbconvert_exporter": "python",
   "pygments_lexer": "ipython3",
   "version": "3.11.9"
  }
 },
 "nbformat": 4,
 "nbformat_minor": 2
}
