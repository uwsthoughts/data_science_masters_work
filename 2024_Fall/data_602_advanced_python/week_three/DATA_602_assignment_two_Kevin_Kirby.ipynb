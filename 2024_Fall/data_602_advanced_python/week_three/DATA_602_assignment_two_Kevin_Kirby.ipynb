{
 "cells": [
  {
   "cell_type": "markdown",
   "metadata": {},
   "source": [
    "# Assignment Two for DATA 602: Advanced Python Techniques\n",
    "\n",
    "Assignment two consists of five questions, each of which is broken out with its own header text. The Headers and supporting text are the questions as provided. "
   ]
  },
  {
   "cell_type": "markdown",
   "metadata": {},
   "source": [
    "## Q1. What will the following code display?\n",
    "\n",
    "numbers = [1, 2, 3, 4, 5]\n",
    "print(numbers[1:-5])\n",
    "\n",
    "Can you debug and fix the output? The code should return the entire list"
   ]
  },
  {
   "cell_type": "markdown",
   "metadata": {},
   "source": [
    "This code is as provided and will provide an empty list. It will start inclsuively at index position one (which is 2) and go exclusively to index position -5. The -5th index from the back is 1, mean the slice says \"start at number 2 and go until 1. This results in an empty list because nothing fits the criteria."
   ]
  },
  {
   "cell_type": "code",
   "execution_count": null,
   "metadata": {},
   "outputs": [],
   "source": [
    "numbers = [1, 2, 3, 4, 5]\n",
    "print(numbers[1:-5])"
   ]
  },
  {
   "cell_type": "markdown",
   "metadata": {},
   "source": [
    "This next chunk fixes the code by just printing the list. I also included a second print that shows how you could print the whole list with slicing but it's not needed. If you need to see the whole list and the list itself is properly created, just use print()."
   ]
  },
  {
   "cell_type": "code",
   "execution_count": null,
   "metadata": {},
   "outputs": [],
   "source": [
    "numbers = [1, 2, 3, 4, 5]\n",
    "print(numbers)\n",
    "print(numbers[:])"
   ]
  },
  {
   "cell_type": "markdown",
   "metadata": {},
   "source": [
    "## 2 Design a program that asks the user to enter a store’s sales for each day of the week\n",
    "\n",
    "The amounts should be stored in a list. Use a loop to calculate the total sales for the week and display the result."
   ]
  },
  {
   "cell_type": "code",
   "execution_count": null,
   "metadata": {},
   "outputs": [],
   "source": [
    "# create empty list for sales to be stord in \n",
    "sales = []\n",
    "\n",
    "# define the days of the week so that each day can be associated to a sales amount\n",
    "days = ['Monday', 'Tuesday', 'Wednesday', 'Thursday', 'Friday', 'Saturday', 'Sunday']\n",
    "\n",
    "# loop through each day in the list and take input from user on the sales amount\n",
    "for day in days:\n",
    "    gross_earned = float(input(f\"Please enter the total sales for {day}: \"))\n",
    "    sales.append(gross_earned)\n",
    "\n",
    "# establish baseline zero for starting sales before inputs and then loop through and add sales.\n",
    "total_sales = 0\n",
    "for sale in sales:\n",
    "    total_sales += sale\n",
    "print(f\"Total sales for the week: ${total_sales}\")\n"
   ]
  },
  {
   "cell_type": "markdown",
   "metadata": {},
   "source": [
    "## 3.  Create a list with at least 5 places you’d like to travel to\n",
    " *  Print your list in its original order\n",
    " *  Use the sort() function to arrange your list in order and reprint your list.\n",
    " *  Use the sort(reverse=True) and reprint your list.\n",
    "\n"
   ]
  },
  {
   "cell_type": "code",
   "execution_count": null,
   "metadata": {},
   "outputs": [],
   "source": [
    "# starting with a list of places I've wanted to go to for eternity\n",
    "my_eternals = ['Paris', 'Ibiza', 'Bora Bora', 'Argentina', 'Mongolia']\n",
    "\n",
    "# the way to print the order in its original list is to just print it without edits.\n",
    "print(\"Original order:\", my_eternals)\n",
    "\n",
    "# sorts oists alphabetically and then prints out the sorted list\n",
    "my_eternals.sort()\n",
    "print(\"Sorted:\", my_eternals)\n",
    "\n",
    "# reverse=True undoes the sort and brings it back to original order\n",
    "my_eternals.sort(reverse=True)\n",
    "print(\"Back to the start:\", my_eternals)\n"
   ]
  },
  {
   "cell_type": "markdown",
   "metadata": {},
   "source": [
    "## 4. Courses Details Program\n",
    "\n",
    "Q4. Write a program that creates a dictionary containing course numbers and the room numbers of the rooms where the courses meet. The program should also create a dictionary containing course numbers and the names of the instructors that teach each course. After that, the program should let the user enter a course number, then it should display the course’s room number, instructor, and meeting time."
   ]
  },
  {
   "cell_type": "code",
   "execution_count": null,
   "metadata": {},
   "outputs": [],
   "source": [
    "# course room dictionary\n",
    "rooms = {\n",
    "    'NEURON726': 'Room 300',\n",
    "    'LLM201': 'Room 450',\n",
    "    'RAG600': 'Room 220',\n",
    "    'DATA105': 'Room 110',\n",
    "    'CHEM101': 'Room 350'\n",
    "}\n",
    "\n",
    "#instructor dictioary\n",
    "instructors = {\n",
    "    'NEURON726': 'Professor Bloom',\n",
    "    'LLM201': 'Professor Kirby',\n",
    "    'RAG600': 'Professor Shen',\n",
    "    'DATA105': 'Professor Potter',\n",
    "    'CHEM101': 'Professor Khavani'\n",
    "}\n",
    "\n",
    "# class time dictionary \n",
    "class_times = {\n",
    "    'NEURON726': '9:00 AM - 10:30 AM',\n",
    "    'LLM201': '11:00 AM - 12:30 PM',\n",
    "    'RAG600': '1:00 PM - 2:30 PM',\n",
    "    'DATA105': '10:00 AM - 11:30 AM',\n",
    "    'CHEM101': '3:00 PM - 4:30 PM'\n",
    "}\n",
    "\n",
    "# prompts user to put in the full course number, which is validated in the next loop\n",
    "course_input = input(\"Enter the course number: \")\n",
    "\n",
    "# checks to see if the course numnber exists in the the different dictionaries defined above. All three need to be present, otherwise an error is thrown\n",
    "if course_input in rooms and course_input in instructors and course_input in class_times:\n",
    "    print(f\" Key details for {course_input}:\")\n",
    "    print(f\"Room: {rooms[course_input]}\")\n",
    "    print(f\"Instructor: {instructors[course_input]}\")\n",
    "    print(f\"Start and end time: {class_times[course_input]}\")\n",
    "else:\n",
    "    print(\"Invalid course number. Please try again.\")\n"
   ]
  },
  {
   "cell_type": "markdown",
   "metadata": {},
   "source": [
    "## 5. Write a program that keeps names and email addresses in a dictionary as key-value pairs\n",
    "\n",
    "The program should then demonstrate the four options:\n",
    "\n",
    "* Look up a person’s email address\n",
    "* Add a new name and email address\n",
    "* Change an existing email address\n",
    "* Delete an existing name and email address"
   ]
  },
  {
   "cell_type": "code",
   "execution_count": null,
   "metadata": {},
   "outputs": [],
   "source": [
    "# create empty dictionary and define menu with required drop down options\n",
    "emails_dict = {}\n",
    "\n",
    "# creates a menu for email options. If you run this in a jupyter notebook (which I used to create the file) then\n",
    "#the options will appear below the box and (at least for me in the Cursor editor) the input box will appear above\n",
    "def email_opts():\n",
    "    print(\"Menu Options:\")\n",
    "    print(\"1. Look up an email address\")\n",
    "    print(\"2. Add a new name and email address\")\n",
    "    print(\"3. Change an existing email address\")\n",
    "    print(\"4. Delete an existing name and email address\")\n",
    "    print(\"5. Exit\")\n",
    "\n",
    "# this supports option 1 of looking up an email\n",
    "def find_alias():\n",
    "    name = input(\"Enter name: \")\n",
    "    if name in emails_dict:\n",
    "        print(f\"{name}'s email address is: {emails_dict[name]}\")\n",
    "    else:\n",
    "        print(\"Name not found, maybe try adding them?\")\n",
    "\n",
    "# this supports option 2 of adding a new name and email address\n",
    "def create_entry():\n",
    "    name = input(\"Name: \")\n",
    "    email = input(\"Email address: \")\n",
    "    if name in emails_dict:\n",
    "        print(f\"{name} is already available.\")\n",
    "    else:\n",
    "        emails_dict[name] = email\n",
    "        print(f\"{name} has been added! Their email address on file will be {email}\")\n",
    "\n",
    "# this supports option 3 of changing an existing email \n",
    "def update_entry():\n",
    "    name = input(\"Who do you want to update? Please enter their name: \")\n",
    "    if name in emails_dict:\n",
    "        new_email = input(\"New email address: \")\n",
    "        emails_dict[name] = new_email\n",
    "        print(f\"You did it! {name}'s email address is now updated.\")\n",
    "    else:\n",
    "        print(\"Name not found.\")\n",
    "\n",
    "# this supports option 4 of deleting an existing name and email address\n",
    "def delete_alias():\n",
    "    name = input(\"Who do you want to delete?\")\n",
    "    if name in emails_dict:\n",
    "        del emails_dict[name]\n",
    "        print(f\"Poof. {name} is no more..\")\n",
    "    else:\n",
    "        print(\"I'm sorry, I couldn't find that name.\")\n",
    "\n",
    "# this fires the whole program \n",
    "def email_power():\n",
    "    while True:\n",
    "        email_opts()\n",
    "        choice = input(\"\\nChoose an option (1-5): \")\n",
    "        \n",
    "        if choice == '1':\n",
    "            find_alias()\n",
    "        elif choice == '2':\n",
    "            create_entry()\n",
    "        elif choice == '3':\n",
    "            update_entry()\n",
    "        elif choice == '4':\n",
    "            delete_alias()\n",
    "        elif choice == '5':\n",
    "            print(\"Exiting the program.\")\n",
    "            break\n",
    "        else:\n",
    "            print(\"Invalid choice. Please try again.\")\n",
    "\n",
    "#triggers the whole function. WUthout this, nothing would happen\n",
    "email_power()\n"
   ]
  }
 ],
 "metadata": {
  "kernelspec": {
   "display_name": "Tensorflow GPU env",
   "language": "python",
   "name": "myenv"
  },
  "language_info": {
   "codemirror_mode": {
    "name": "ipython",
    "version": 3
   },
   "file_extension": ".py",
   "mimetype": "text/x-python",
   "name": "python",
   "nbconvert_exporter": "python",
   "pygments_lexer": "ipython3",
   "version": "3.10.12"
  }
 },
 "nbformat": 4,
 "nbformat_minor": 2
}
