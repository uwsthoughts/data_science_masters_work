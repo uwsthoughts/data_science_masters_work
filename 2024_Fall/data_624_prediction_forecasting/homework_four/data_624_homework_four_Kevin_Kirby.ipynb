{
 "cells": [
  {
   "cell_type": "code",
   "execution_count": null,
   "metadata": {},
   "outputs": [],
   "source": [
    "from ucimlrepo import fetch_ucirepo \n",
    "import pandas as pd\n",
    "import matplotlib.pyplot as plt\n",
    "import seaborn as sns\n",
    "   \n"
   ]
  },
  {
   "cell_type": "code",
   "execution_count": null,
   "metadata": {},
   "outputs": [],
   "source": [
    "glass_identification = fetch_ucirepo(id=42) \n",
    "  \n",
    "# data (as pandas dataframes) \n",
    "X = glass_identification.data.features \n",
    "y = glass_identification.data.targets \n",
    "  \n",
    "# metadata \n",
    "print(glass_identification.metadata) \n",
    "  \n",
    "# variable information \n",
    "print(glass_identification.variables) "
   ]
  },
  {
   "cell_type": "code",
   "execution_count": null,
   "metadata": {},
   "outputs": [],
   "source": [
    "import pandas as pd\n",
    "import matplotlib.pyplot as plt\n",
    "import seaborn as sns\n",
    "\n",
    "# Assuming the data is already loaded into a DataFrame called 'Glass'\n",
    "# If not, you would need to load it first\n",
    "\n",
    "# Set up the matplotlib figure\n",
    "plt.figure(figsize=(20, 20))\n",
    "\n",
    "# Create histograms for each predictor\n",
    "for i, column in enumerate(Glass.columns[:-1], 1):\n",
    "    plt.subplot(3, 3, i)\n",
    "    sns.histplot(Glass[column], kde=True)\n",
    "    plt.title(f'Distribution of {column}')\n",
    "\n",
    "plt.tight_layout()\n",
    "plt.savefig('glass_histograms.png')\n",
    "plt.close()\n",
    "\n",
    "# Create box plots for each predictor\n",
    "plt.figure(figsize=(20, 10))\n",
    "sns.boxplot(data=Glass.iloc[:, :-1])\n",
    "plt.xticks(rotation=45)\n",
    "plt.title('Box Plots of Predictors')\n",
    "plt.savefig('glass_boxplots.png')\n",
    "plt.close()\n",
    "\n",
    "# Create a correlation matrix heatmap\n",
    "plt.figure(figsize=(12, 10))\n",
    "sns.heatmap(Glass.iloc[:, :-1].corr(), annot=True, cmap='coolwarm')\n",
    "plt.title('Correlation Matrix of Predictors')\n",
    "plt.savefig('glass_correlation_heatmap.png')\n",
    "plt.close()\n",
    "\n",
    "# Create a scatter plot matrix\n",
    "sns.pairplot(Glass, hue='Type')\n",
    "plt.savefig('glass_pairplot.png')\n",
    "plt.close()"
   ]
  }
 ],
 "metadata": {
  "language_info": {
   "name": "python"
  }
 },
 "nbformat": 4,
 "nbformat_minor": 2
}
