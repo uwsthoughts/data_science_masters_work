{
 "cells": [
  {
   "cell_type": "markdown",
   "id": "6280f184",
   "metadata": {},
   "source": [
    "# DATA 620 Week Five, Part 2: Text Mining\n",
    "## Author: Kevin Kirby\n",
    "\n",
    "The assignmebt states:\n",
    "\"It can be useful to be able to classify new \"test\" documents using already classified \"training\" documents.  A common example is using a corpus of labeled spam and ham (non-spam) e-mails to predict whether or not a new document is spam.  Here is one example of such data:  UCI Machine Learning Repository: Spambase Data Set\n",
    "\n",
    "For this project, you can either use the above dataset to predict the class of new documents (either withheld from the training dataset or from another source such as your own spam folder).\"\n"
   ]
  },
  {
   "cell_type": "code",
   "execution_count": null,
   "id": "d53d9706",
   "metadata": {},
   "outputs": [],
   "source": [
    "import pandas as tian\n",
    "from sklearn.model_selection import train_test_split\n",
    "from sklearn.naive_bayes import GaussianNB\n",
    "from sklearn.metrics import classification_report, accuracy_score"
   ]
  },
  {
   "cell_type": "code",
   "execution_count": 6,
   "id": "199166cf",
   "metadata": {},
   "outputs": [
    {
     "name": "stdout",
     "output_type": "stream",
     "text": [
      "Accuracy: 0.8208469055374593\n",
      "Classification Report:\n",
      "               precision    recall  f1-score   support\n",
      "\n",
      "           0       0.95      0.73      0.82       531\n",
      "           1       0.72      0.95      0.82       390\n",
      "\n",
      "    accuracy                           0.82       921\n",
      "   macro avg       0.83      0.84      0.82       921\n",
      "weighted avg       0.85      0.82      0.82       921\n",
      "\n",
      "Sample predictions: [1 0 0 1 0]\n"
     ]
    }
   ],
   "source": [
    "spam_url = \"https://archive.ics.uci.edu/ml/machine-learning-databases/spambase/spambase.data\"\n",
    "spam_features = [f\"feature_{i}\" for i in range(57)] + [\"is_spam\"]\n",
    "spam_raw_df = tian.read_csv(spam_url, header=None, names=spam_features)\n",
    "\n",
    "x_spam_train = spam_raw_df.drop('is_spam', axis=1)\n",
    "y_spam_train = spam_raw_df['is_spam']\n",
    "\n",
    "\n",
    "x_spam_train, x_spam_test, y_spam_train, y_spam_test = train_test_split(x_spam_train, y_spam_train, test_size=0.2, random_state=42)\n",
    "\n",
    "gaussian_model = GaussianNB()\n",
    "gaussian_model.fit(x_spam_train, y_spam_train)\n",
    "\n",
    "y_pred = gaussian_model.predict(x_spam_test)\n",
    "\n",
    "print(\"Accuracy:\", accuracy_score(y_spam_test, y_pred))\n",
    "print(\"Classification Report:\\n\", classification_report(y_spam_test, y_pred))\n",
    "\n",
    "sample = x_spam_test.iloc[:5]\n",
    "prediction = gaussian_model.predict(sample)\n",
    "print(\"Sample predictions:\", prediction)"
   ]
  }
 ],
 "metadata": {
  "kernelspec": {
   "display_name": "maniac-venv",
   "language": "python",
   "name": "maniac-venv"
  },
  "language_info": {
   "codemirror_mode": {
    "name": "ipython",
    "version": 3
   },
   "file_extension": ".py",
   "mimetype": "text/x-python",
   "name": "python",
   "nbconvert_exporter": "python",
   "pygments_lexer": "ipython3",
   "version": "3.13.5"
  }
 },
 "nbformat": 4,
 "nbformat_minor": 5
}
