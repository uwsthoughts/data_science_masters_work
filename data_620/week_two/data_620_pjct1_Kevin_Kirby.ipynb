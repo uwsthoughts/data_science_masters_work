{
 "cells": [
  {
   "cell_type": "markdown",
   "metadata": {},
   "source": [
    "# DATA 620 Project One\n",
    "## Airline Network Analysis\n",
    "\n",
    "Author: Kevin Kirby"
   ]
  },
  {
   "cell_type": "markdown",
   "metadata": {},
   "source": [
    "##  Library and Data Imports\n",
    "\n",
    "The dataset I chose is the [EU Air Transportation Multiplex Network](https://manliodedomenico.com/data.php), which represents airlines operating at airports as a series of networks:\n",
    "\n",
    "* Nodes equal airports\n",
    "* Edges equal flights between airports\n",
    "* Layers equal different airlines, with each layer representing separate networks\n",
    "* Categorical variable is the layer ID, representing the airline\n",
    "\n",
    "These next few cells:\n",
    "* Import required libraries\n",
    "* Turn graph files into pandas dataframes\n",
    "* Show small sample of each dataframe\n"
   ]
  },
  {
   "cell_type": "code",
   "execution_count": 17,
   "metadata": {},
   "outputs": [],
   "source": [
    "import pandas as tian\n",
    "import networkx as nx\n",
    "import matplotlib.pyplot as plt\n",
    "import seaborn as sns\n",
    "from pyvis.network import Network\n",
    "from scipy.stats import f_oneway, kruskal, ttest_ind"
   ]
  },
  {
   "cell_type": "code",
   "execution_count": 2,
   "metadata": {},
   "outputs": [],
   "source": [
    "airline_edges = tian.read_csv(\"/Users/uwsthoughts/Desktop/masters_local/EUAir_Multiplex_Transport/Dataset/EUAirTransportation_multiplex.edges\", sep=\" \", header=None, names=[\"layer\", \"source\", \"target\", \"weight\"])\n",
    "airline_layers = tian.read_csv(\"/Users/uwsthoughts/Desktop/masters_local/EUAir_Multiplex_Transport/Dataset/EUAirTransportation_layers.txt\", sep=\" \", header=1, names=[\"node_id\", \"node_label\"])\n",
    "airline_nodes = tian.read_csv(\"/Users/uwsthoughts/Desktop/masters_local/EUAir_Multiplex_Transport/Dataset/EUAirTransportation_nodes.txt\", sep=\" \", header=1,  names=[\"node_id\", \"node_label\", \"longitude\", \"latitude\"])"
   ]
  },
  {
   "cell_type": "code",
   "execution_count": 3,
   "metadata": {},
   "outputs": [
    {
     "data": {
      "text/html": [
       "<div>\n",
       "<style scoped>\n",
       "    .dataframe tbody tr th:only-of-type {\n",
       "        vertical-align: middle;\n",
       "    }\n",
       "\n",
       "    .dataframe tbody tr th {\n",
       "        vertical-align: top;\n",
       "    }\n",
       "\n",
       "    .dataframe thead th {\n",
       "        text-align: right;\n",
       "    }\n",
       "</style>\n",
       "<table border=\"1\" class=\"dataframe\">\n",
       "  <thead>\n",
       "    <tr style=\"text-align: right;\">\n",
       "      <th></th>\n",
       "      <th>node_id</th>\n",
       "      <th>node_label</th>\n",
       "      <th>longitude</th>\n",
       "      <th>latitude</th>\n",
       "    </tr>\n",
       "  </thead>\n",
       "  <tbody>\n",
       "    <tr>\n",
       "      <th>0</th>\n",
       "      <td>2</td>\n",
       "      <td>EDDF</td>\n",
       "      <td>8.570555</td>\n",
       "      <td>50.033333</td>\n",
       "    </tr>\n",
       "    <tr>\n",
       "      <th>1</th>\n",
       "      <td>3</td>\n",
       "      <td>EDDK</td>\n",
       "      <td>7.142779</td>\n",
       "      <td>50.865833</td>\n",
       "    </tr>\n",
       "    <tr>\n",
       "      <th>2</th>\n",
       "      <td>4</td>\n",
       "      <td>EGNX</td>\n",
       "      <td>-1.328055</td>\n",
       "      <td>52.831112</td>\n",
       "    </tr>\n",
       "    <tr>\n",
       "      <th>3</th>\n",
       "      <td>5</td>\n",
       "      <td>EGTE</td>\n",
       "      <td>-3.413888</td>\n",
       "      <td>50.734444</td>\n",
       "    </tr>\n",
       "    <tr>\n",
       "      <th>4</th>\n",
       "      <td>6</td>\n",
       "      <td>LTBJ</td>\n",
       "      <td>27.155001</td>\n",
       "      <td>38.289168</td>\n",
       "    </tr>\n",
       "  </tbody>\n",
       "</table>\n",
       "</div>"
      ],
      "text/plain": [
       "   node_id node_label  longitude   latitude\n",
       "0        2       EDDF   8.570555  50.033333\n",
       "1        3       EDDK   7.142779  50.865833\n",
       "2        4       EGNX  -1.328055  52.831112\n",
       "3        5       EGTE  -3.413888  50.734444\n",
       "4        6       LTBJ  27.155001  38.289168"
      ]
     },
     "execution_count": 3,
     "metadata": {},
     "output_type": "execute_result"
    }
   ],
   "source": [
    "airline_nodes.head(5)"
   ]
  },
  {
   "cell_type": "code",
   "execution_count": 4,
   "metadata": {},
   "outputs": [
    {
     "data": {
      "text/html": [
       "<div>\n",
       "<style scoped>\n",
       "    .dataframe tbody tr th:only-of-type {\n",
       "        vertical-align: middle;\n",
       "    }\n",
       "\n",
       "    .dataframe tbody tr th {\n",
       "        vertical-align: top;\n",
       "    }\n",
       "\n",
       "    .dataframe thead th {\n",
       "        text-align: right;\n",
       "    }\n",
       "</style>\n",
       "<table border=\"1\" class=\"dataframe\">\n",
       "  <thead>\n",
       "    <tr style=\"text-align: right;\">\n",
       "      <th></th>\n",
       "      <th>node_id</th>\n",
       "      <th>node_label</th>\n",
       "    </tr>\n",
       "  </thead>\n",
       "  <tbody>\n",
       "    <tr>\n",
       "      <th>0</th>\n",
       "      <td>2</td>\n",
       "      <td>Ryanair</td>\n",
       "    </tr>\n",
       "    <tr>\n",
       "      <th>1</th>\n",
       "      <td>3</td>\n",
       "      <td>Easyjet</td>\n",
       "    </tr>\n",
       "    <tr>\n",
       "      <th>2</th>\n",
       "      <td>4</td>\n",
       "      <td>British_Airways</td>\n",
       "    </tr>\n",
       "    <tr>\n",
       "      <th>3</th>\n",
       "      <td>5</td>\n",
       "      <td>Turkish_Airlines</td>\n",
       "    </tr>\n",
       "    <tr>\n",
       "      <th>4</th>\n",
       "      <td>6</td>\n",
       "      <td>Air_Berlin</td>\n",
       "    </tr>\n",
       "  </tbody>\n",
       "</table>\n",
       "</div>"
      ],
      "text/plain": [
       "   node_id        node_label\n",
       "0        2           Ryanair\n",
       "1        3           Easyjet\n",
       "2        4   British_Airways\n",
       "3        5  Turkish_Airlines\n",
       "4        6        Air_Berlin"
      ]
     },
     "execution_count": 4,
     "metadata": {},
     "output_type": "execute_result"
    }
   ],
   "source": [
    "airline_layers.head(5)"
   ]
  },
  {
   "cell_type": "code",
   "execution_count": 5,
   "metadata": {},
   "outputs": [
    {
     "data": {
      "text/html": [
       "<div>\n",
       "<style scoped>\n",
       "    .dataframe tbody tr th:only-of-type {\n",
       "        vertical-align: middle;\n",
       "    }\n",
       "\n",
       "    .dataframe tbody tr th {\n",
       "        vertical-align: top;\n",
       "    }\n",
       "\n",
       "    .dataframe thead th {\n",
       "        text-align: right;\n",
       "    }\n",
       "</style>\n",
       "<table border=\"1\" class=\"dataframe\">\n",
       "  <thead>\n",
       "    <tr style=\"text-align: right;\">\n",
       "      <th></th>\n",
       "      <th>layer</th>\n",
       "      <th>source</th>\n",
       "      <th>target</th>\n",
       "      <th>weight</th>\n",
       "    </tr>\n",
       "  </thead>\n",
       "  <tbody>\n",
       "    <tr>\n",
       "      <th>0</th>\n",
       "      <td>1</td>\n",
       "      <td>1</td>\n",
       "      <td>2</td>\n",
       "      <td>1.0</td>\n",
       "    </tr>\n",
       "    <tr>\n",
       "      <th>1</th>\n",
       "      <td>1</td>\n",
       "      <td>1</td>\n",
       "      <td>38</td>\n",
       "      <td>1.0</td>\n",
       "    </tr>\n",
       "    <tr>\n",
       "      <th>2</th>\n",
       "      <td>1</td>\n",
       "      <td>2</td>\n",
       "      <td>7</td>\n",
       "      <td>1.0</td>\n",
       "    </tr>\n",
       "    <tr>\n",
       "      <th>3</th>\n",
       "      <td>1</td>\n",
       "      <td>2</td>\n",
       "      <td>8</td>\n",
       "      <td>1.0</td>\n",
       "    </tr>\n",
       "    <tr>\n",
       "      <th>4</th>\n",
       "      <td>1</td>\n",
       "      <td>2</td>\n",
       "      <td>10</td>\n",
       "      <td>1.0</td>\n",
       "    </tr>\n",
       "  </tbody>\n",
       "</table>\n",
       "</div>"
      ],
      "text/plain": [
       "   layer  source  target  weight\n",
       "0      1       1       2     1.0\n",
       "1      1       1      38     1.0\n",
       "2      1       2       7     1.0\n",
       "3      1       2       8     1.0\n",
       "4      1       2      10     1.0"
      ]
     },
     "execution_count": 5,
     "metadata": {},
     "output_type": "execute_result"
    }
   ],
   "source": [
    "airline_edges.head(5)"
   ]
  },
  {
   "cell_type": "markdown",
   "metadata": {},
   "source": [
    "## Data cleanup\n",
    "\n",
    "These ensure the latitude and longtitude values floats and the sources and targets of the edges are integers. I was running into issues with the initial data containing a mix of types and they all needed to be normalized as numbers for this to work.\n",
    "\n",
    "The geographic locations are mapped to western, central, and eastern Europe according to their longitudes. If I wanted to break them down by northern, central, and southern I would use latitude instead."
   ]
  },
  {
   "cell_type": "code",
   "execution_count": 15,
   "metadata": {},
   "outputs": [],
   "source": [
    "airline_nodes[\"latitude\"] = airline_nodes[\"latitude\"].astype(float)\n",
    "airline_nodes[\"longitude\"] = airline_nodes[\"longitude\"].astype(float)\n",
    "\n",
    "airline_edges[\"source\"] = airline_edges[\"source\"].astype(int)\n",
    "airline_edges[\"target\"] = airline_edges[\"target\"].astype(int)"
   ]
  },
  {
   "cell_type": "code",
   "execution_count": 7,
   "metadata": {},
   "outputs": [
    {
     "name": "stdout",
     "output_type": "stream",
     "text": [
      "region\n",
      "Western    199\n",
      "Eastern    133\n",
      "Central    117\n",
      "Name: count, dtype: int64\n"
     ]
    }
   ],
   "source": [
    "def long_regions(lon):\n",
    "    if lon < 10:\n",
    "        return \"Western\"\n",
    "    elif lon < 20:\n",
    "        return \"Central\"\n",
    "    else:\n",
    "        return \"Eastern\"\n",
    "\n",
    "\n",
    "airline_nodes[\"region\"] = airline_nodes[\"longitude\"].apply(long_regions)\n",
    "\n",
    "vns = set(airline_nodes[\"node_id\"])\n",
    "filtered_eds = airline_edges[airline_edges[\"source\"].isin(vns) & airline_edges[\"target\"].isin(vns)]\n",
    "\n",
    "print(airline_nodes[\"region\"].value_counts())"
   ]
  },
  {
   "cell_type": "markdown",
   "metadata": {},
   "source": [
    "## Mapping the graph\n",
    "\n",
    "This turns the edges and nodes into a map and visualizes them with Pyvis Network. It takes a hot second to render in Chrome but it is pretty neat. "
   ]
  },
  {
   "cell_type": "code",
   "execution_count": 8,
   "metadata": {},
   "outputs": [],
   "source": [
    "airline_graph = nx.Graph()\n",
    "airline_graph.add_nodes_from(vns)\n",
    "airline_graph.add_weighted_edges_from(filtered_eds[[\"source\", \"target\", \"weight\"]].values)\n",
    "airline_graph = nx.relabel_nodes(airline_graph, lambda x: int(x))\n",
    "\n",
    "nt = Network(height='750px', width='100%', notebook=True, cdn_resources='in_line')\n",
    "nt.from_nx(airline_graph)"
   ]
  },
  {
   "cell_type": "code",
   "execution_count": null,
   "metadata": {},
   "outputs": [],
   "source": [
    "nt.show(\"/Users/uwsthoughts/Desktop/masters_local/eu_air_network.html\")"
   ]
  },
  {
   "cell_type": "markdown",
   "metadata": {},
   "source": [
    "## Measuring Centrality\n",
    "\n",
    "Some notable takeaways from the centrality measures:\n",
    "\n",
    "**Degree:**\n",
    "\n",
    "* Western airports have the highest average connectivity\n",
    "    * Standard deviation is also the highest here, probably due a mix of hubs and smaller airports\n",
    "* Eastern airports have the lowest, most likely due to more rural areas or less direct connections\n",
    "\n",
    "**Eigenvector**\n",
    "* Western airports are wel connected to other important airports\n",
    "    * This makes their place in the overall network very important \n",
    "* Eastern airport scored the lowest\n",
    "    *  More evidence that, based purely on this dataset, these airports play a less important role"
   ]
  },
  {
   "cell_type": "code",
   "execution_count": 9,
   "metadata": {},
   "outputs": [],
   "source": [
    "centrality_d = nx.degree_centrality(airline_graph)\n",
    "centrality_eig = nx.eigenvector_centrality(airline_graph, max_iter=1000)\n",
    "\n",
    "airline_nodes[\"centrality_degree\"] = airline_nodes[\"node_id\"].map(centrality_d)\n",
    "airline_nodes[\"centrality_eigenvector\"] = airline_nodes[\"node_id\"].map(centrality_eig)"
   ]
  },
  {
   "cell_type": "code",
   "execution_count": 10,
   "metadata": {},
   "outputs": [
    {
     "name": "stdout",
     "output_type": "stream",
     "text": [
      "nodes summary:\n",
      "         centrality_degree                                               \\\n",
      "                    count      mean       std  min       25%       50%   \n",
      "region                                                                   \n",
      "Central             117.0  0.029724  0.042342  0.0  0.004464  0.011161   \n",
      "Eastern             133.0  0.015910  0.029315  0.0  0.002232  0.004464   \n",
      "Western             199.0  0.037845  0.052281  0.0  0.004464  0.013393   \n",
      "\n",
      "                            centrality_eigenvector                      \\\n",
      "              75%       max                  count      mean       std   \n",
      "region                                                                   \n",
      "Central  0.035714  0.220982                  117.0  0.027465  0.039651   \n",
      "Eastern  0.013393  0.183036                  133.0  0.013884  0.025166   \n",
      "Western  0.049107  0.250000                  199.0  0.033987  0.044396   \n",
      "\n",
      "                                                               \n",
      "                  min       25%       50%       75%       max  \n",
      "region                                                         \n",
      "Central  8.786972e-20  0.002573  0.009477  0.032854  0.178709  \n",
      "Eastern  8.786972e-20  0.002655  0.004675  0.011221  0.132768  \n",
      "Western  8.786972e-20  0.004203  0.014084  0.043749  0.186944  \n"
     ]
    }
   ],
   "source": [
    "nodes_summary = airline_nodes.groupby(\"region\")[[\"centrality_degree\", \"centrality_eigenvector\"]].describe()\n",
    "print(f\"nodes summary:\\n {nodes_summary}\")"
   ]
  },
  {
   "cell_type": "markdown",
   "metadata": {},
   "source": [
    "## ANOVA and Kruskal-Wallis P-Values\n",
    "\n",
    "Both of these values rejecrt the null hypothesis that all regions have the same centrality distribution. This confirms what the data above pointed to: airport centrality can and does vary in meaningful ways by geographic region. Western Europe tends to have more centrally connected airports while those in Eastern Europe and much less directly or indirectly connected.\n",
    "\n",
    "Both the ANOVA and Kruskal-Wallis tests show that degree centrality can vary significantly by region. Head-to-head comparisons show that Eastern European airports have lower centrality than both Western and Central Europe. There was no significant difference between Western and Central Europe."
   ]
  },
  {
   "cell_type": "code",
   "execution_count": 20,
   "metadata": {},
   "outputs": [
    {
     "name": "stdout",
     "output_type": "stream",
     "text": [
      "ANOVA p-value for centrality degree:\n",
      " 6.058717800017036e-05 \n",
      "\n",
      "Kruskal-Wallis p-value for centrality degree:\n",
      " 1.0043285630305525e-06 \n",
      "\n",
      "T-test p-values for centrality degree:\n",
      "Western vs Central: 0.1330175412396053\n",
      "Western vs Eastern: 1.66590122871149e-06\n",
      "Central vs Eastern: 0.00344793119355494\n"
     ]
    }
   ],
   "source": [
    "west = airline_nodes[airline_nodes[\"region\"] == \"Western\"][\"centrality_degree\"]\n",
    "central = airline_nodes[airline_nodes[\"region\"] == \"Central\"][\"centrality_degree\"]\n",
    "east = airline_nodes[airline_nodes[\"region\"] == \"Eastern\"][\"centrality_degree\"]\n",
    "\n",
    "anova_result = f_oneway(west, central, east)\n",
    "print(\"ANOVA p-value for centrality degree:\\n\", anova_result.pvalue, \"\\n\")\n",
    "\n",
    "kw_result = kruskal(west, central, east)\n",
    "print(\"Kruskal-Wallis p-value for centrality degree:\\n\", kw_result.pvalue, \"\\n\")\n",
    "\n",
    "\n",
    "print(\"T-test p-values for centrality degree:\")\n",
    "print(\"Western vs Central:\", ttest_ind(west, central, equal_var=False).pvalue)\n",
    "print(\"Western vs Eastern:\", ttest_ind(west, east, equal_var=False).pvalue)\n",
    "print(\"Central vs Eastern:\", ttest_ind(central, east, equal_var=False).pvalue)\n"
   ]
  },
  {
   "cell_type": "markdown",
   "metadata": {},
   "source": [
    "## Plotting Centrality\n",
    "\n",
    "The Degree Centrality by European Region boxplot shows how degree centrality can vary across the European air transportation network. Airports in Western and Central Europe have higher average connectivity than those in Eastern Europe, with Western airports showing the most extreme outliers. What really stands out is just how much Eastern Europe airports are structurally less central than Central or Western Europe airports. It's not a great look that the West dominates in this kind of data and speaks to disparities within Europe.\n",
    "\n",
    "The Eigenvector Centrality by European Region boxplot shows that Western and Central Europe have stronger connections to nodes that also have strong connections. This reinforces the structural roles these airports play in the network hubs. "
   ]
  },
  {
   "cell_type": "code",
   "execution_count": 14,
   "metadata": {},
   "outputs": [
    {
     "data": {
      "image/png": "[encoded data removed]",
      "text/plain": [
       "<Figure size 1200x500 with 1 Axes>"
      ]
     },
     "metadata": {},
     "output_type": "display_data"
    },
    {
     "data": {
      "image/png": "[encoded data removed]",
      "text/plain": [
       "<Figure size 1200x500 with 1 Axes>"
      ]
     },
     "metadata": {},
     "output_type": "display_data"
    }
   ],
   "source": [
    "sns.set_theme(style=\"whitegrid\")\n",
    "plt.figure(figsize=(12, 5))\n",
    "sns.boxplot(data=airline_nodes, x=\"region\", y=\"centrality_degree\")\n",
    "plt.title(\"Degree Centrality by European Region\")\n",
    "plt.show()\n",
    "\n",
    "plt.figure(figsize=(12, 5))\n",
    "sns.boxplot(data=airline_nodes, x=\"region\", y=\"centrality_eigenvector\")\n",
    "plt.title(\"Eigenvector Centrality by European Region\")\n",
    "plt.show()"
   ]
  }
 ],
 "metadata": {
  "kernelspec": {
   "display_name": "surging-vortext-venv",
   "language": "python",
   "name": "surging-vortext-venv"
  },
  "language_info": {
   "codemirror_mode": {
    "name": "ipython",
    "version": 3
   },
   "file_extension": ".py",
   "mimetype": "text/x-python",
   "name": "python",
   "nbconvert_exporter": "python",
   "pygments_lexer": "ipython3",
   "version": "3.11.9"
  }
 },
 "nbformat": 4,
 "nbformat_minor": 2
}
